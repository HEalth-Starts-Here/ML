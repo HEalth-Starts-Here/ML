{
 "cells": [
  {
   "cell_type": "code",
   "execution_count": 1,
   "metadata": {},
   "outputs": [],
   "source": [
    "from ultralytics import YOLO\n",
    "\n",
    "TRAINED_MODEL_PATH = \"/home/sibwa19/documents/main_course/third/project/ML/ml_project/notebooks/yolo/predict/data/models/trained\"\n",
    "PREDICT_RESULT_PATH = \"/home/sibwa19/documents/main_course/third/project/ML/ml_project/notebooks/yolo/predict/data\"\n",
    "PREDICT_RAW_PATH = \"/home/sibwa19/documents/main_course/third/project/ML/ml_project/notebooks/yolo/predict/data/raw\""
   ]
  },
  {
   "cell_type": "code",
   "execution_count": 2,
   "metadata": {},
   "outputs": [
    {
     "name": "stderr",
     "output_type": "stream",
     "text": [
      "\n",
      "image 1/8 /home/sibwa19/documents/main_course/third/project/ML/ml_project/notebooks/yolo/predict/data/raw/my_disease_01.jpg: 512x384 1 dermatomikosis, 1061.0ms\n",
      "image 2/8 /home/sibwa19/documents/main_course/third/project/ML/ml_project/notebooks/yolo/predict/data/raw/my_disease_03.jpg: 512x384 2 kandidiasis mukokutans, 646.6ms\n",
      "image 3/8 /home/sibwa19/documents/main_course/third/project/ML/ml_project/notebooks/yolo/predict/data/raw/my_disease_04.jpg: 512x384 (no detections), 589.5ms\n",
      "image 4/8 /home/sibwa19/documents/main_course/third/project/ML/ml_project/notebooks/yolo/predict/data/raw/my_disease_05.jpg: 512x384 (no detections), 1137.2ms\n",
      "image 5/8 /home/sibwa19/documents/main_course/third/project/ML/ml_project/notebooks/yolo/predict/data/raw/my_disease_06.jpg: 512x384 (no detections), 511.3ms\n",
      "image 6/8 /home/sibwa19/documents/main_course/third/project/ML/ml_project/notebooks/yolo/predict/data/raw/my_disease_07.jpg: 512x384 1 dermatomikosis, 529.2ms\n",
      "image 7/8 /home/sibwa19/documents/main_course/third/project/ML/ml_project/notebooks/yolo/predict/data/raw/my_disease_08.jpg: 512x384 1 dermatomikosis, 507.0ms\n",
      "image 8/8 /home/sibwa19/documents/main_course/third/project/ML/ml_project/notebooks/yolo/predict/data/raw/my_disease_09.jpg: 512x384 (no detections), 505.2ms\n",
      "Speed: 2.9ms preprocess, 685.9ms inference, 5.3ms postprocess per image at shape (1, 3, 512, 512)\n",
      "Results saved to \u001b[1m/home/sibwa19/documents/main_course/third/project/ML/ml_project/notebooks/yolo/predict/data/predict\u001b[0m\n",
      "4 labels saved to /home/sibwa19/documents/main_course/third/project/ML/ml_project/notebooks/yolo/predict/data/predict/labels\n"
     ]
    }
   ],
   "source": [
    "model = YOLO(f\"{TRAINED_MODEL_PATH}/best.pt\")\n",
    "\n",
    "results = model.predict(\n",
    "    source=f\"{PREDICT_RAW_PATH}\"  # source for predictions\n",
    "    ,project=f\"{PREDICT_RESULT_PATH}\"  # directory for saving predictions\n",
    "    ,name=\"predict\"\n",
    "    ,save=True\n",
    "    ,save_txt=True\n",
    "    ,device=None\n",
    "    ,line_thickness=0\n",
    "    ,boxes=False\n",
    ")"
   ]
  }
 ],
 "metadata": {
  "kernelspec": {
   "display_name": ".venv",
   "language": "python",
   "name": "python3"
  },
  "language_info": {
   "codemirror_mode": {
    "name": "ipython",
    "version": 3
   },
   "file_extension": ".py",
   "mimetype": "text/x-python",
   "name": "python",
   "nbconvert_exporter": "python",
   "pygments_lexer": "ipython3",
   "version": "3.10.10"
  },
  "orig_nbformat": 4
 },
 "nbformat": 4,
 "nbformat_minor": 2
}
