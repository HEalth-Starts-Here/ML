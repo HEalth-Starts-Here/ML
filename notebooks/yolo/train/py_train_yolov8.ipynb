{
 "cells": [
  {
   "cell_type": "code",
   "execution_count": 1,
   "metadata": {},
   "outputs": [],
   "source": [
    "from PIL import Image\n",
    "# import cv2\n",
    "\n",
    "from ultralytics import YOLO\n",
    "from roboflow import Roboflow\n",
    "\n",
    "HOME = \"/home/sibwa19/documents/main_course/third/project\"\n",
    "DATASET_PATH = \"/home/sibwa19/documents/main_course/third/project/ML/ml_project/data/dataset\"\n",
    "TRAIN_RESULT_PATH = \"/home/sibwa19/documents/main_course/third/project/ML/ml_project/data\"\n",
    "PRETRAINED_MODEL_PATH = \"/home/sibwa19/documents/main_course/third/project/ML/ml_project/models/pretrained\"  # auto download from ultralytics and save to directory"
   ]
  },
  {
   "cell_type": "code",
   "execution_count": 15,
   "metadata": {},
   "outputs": [
    {
     "name": "stdout",
     "output_type": "stream",
     "text": [
      "loading Roboflow workspace...\n",
      "loading Roboflow project...\n",
      "Dependency ultralytics<=8.0.20 is required but found version=8.0.52, to fix: `pip install ultralytics<=8.0.20`\n",
      "Downloading Dataset Version Zip in /home/sibwa19/documents/main_course/third/project/ML/ml_project/notebooks/yolo/predict/data/dataset to yolov8: 100% [5840647 / 5840647] bytes\n"
     ]
    },
    {
     "name": "stderr",
     "output_type": "stream",
     "text": [
      "Extracting Dataset Version Zip to /home/sibwa19/documents/main_course/third/project/ML/ml_project/notebooks/yolo/predict/data/dataset in yolov8:: 100%|██████████| 106/106 [00:00<00:00, 2404.05it/s]\n"
     ]
    }
   ],
   "source": [
    "# download dataset from robowlow.universe \n",
    "\n",
    "# !pip install roboflow --quiet\n",
    "\n",
    "# go to desired dataset (https://universe.roboflow.com/setia-wulan-dari/mask-rcnn-skin-disease/dataset/18) \n",
    "# -> download -> yolov8 -> \"show download code\" -> paste here -> add \"location=f\"{DATASET_PATH}\" as below\n",
    "\n",
    "rf = Roboflow(api_key=\"YOUR API\")\n",
    "project = rf.workspace(\"tip-kwadd\").project(\"leaf-diseases-detection\")\n",
    "dataset = project.version(2).download(\"yolov8\", location=f\"{DATASET_PATH}\")"
   ]
  },
  {
   "cell_type": "code",
   "execution_count": 10,
   "metadata": {},
   "outputs": [],
   "source": [
    "model = YOLO(f'{PRETRAINED_MODEL_PATH}/yolov8l-seg.pt')  \n",
    "\n",
    "model.train(\n",
    "    data=f'{DATASET_PATH}/data.yaml'  # data path\n",
    "    ,epochs=1\n",
    "    ,imgsz=512\n",
    "    ,optimizer=\"AdamW\"\n",
    "    ,batch=16 \n",
    "    ,seed=567 \n",
    "    ,project=f\"{TRAIN_RESULT_PATH}\"  # save directory path  \n",
    "    ,name=\"train\"  # spam default \"train\" \"train2\" \"train3\" ...\n",
    "    ,device=None\n",
    ")"
   ]
  },
  {
   "cell_type": "code",
   "execution_count": 18,
   "metadata": {},
   "outputs": [],
   "source": [
    "# # same train, but use cli\n",
    "\n",
    "# !yolo task=segment \\\n",
    "#   mode=train model=yolov8l-seg.pt \\\n",
    "#   data={HOME}/ML/ml_project/notebooks/yolo/train/Leaf-Diseases-detection-2/data.yaml \\\n",
    "#   epochs=1 \\\n",
    "#   imgsz=512 \\\n",
    "#   optimizer=\"AdamW\" \\\n",
    "#   batch=16 \\\n",
    "#   seed=567 \\\n",
    "#   project={HOME}/ML/ml_project/notebooks/yolo/predict/data \\\n",
    "#   name=\"train\""
   ]
  },
  {
   "cell_type": "code",
   "execution_count": null,
   "metadata": {},
   "outputs": [],
   "source": []
  }
 ],
 "metadata": {
  "kernelspec": {
   "display_name": ".venv",
   "language": "python",
   "name": "python3"
  },
  "language_info": {
   "codemirror_mode": {
    "name": "ipython",
    "version": 3
   },
   "file_extension": ".py",
   "mimetype": "text/x-python",
   "name": "python",
   "nbconvert_exporter": "python",
   "pygments_lexer": "ipython3",
   "version": "3.10.10"
  },
  "orig_nbformat": 4
 },
 "nbformat": 4,
 "nbformat_minor": 2
}
