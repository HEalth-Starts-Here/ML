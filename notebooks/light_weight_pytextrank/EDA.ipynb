{
 "cells": [
  {
   "cell_type": "code",
   "execution_count": null,
   "metadata": {},
   "outputs": [],
   "source": [
    "!python -m spacy download ru_core_news_sm  # no option to install by pip"
   ]
  },
  {
   "cell_type": "code",
   "execution_count": null,
   "metadata": {},
   "outputs": [],
   "source": [
    "import spacy\n",
    "import pytextrank\n",
    "from spacy.lang.ru.stop_words import STOP_WORDS\n",
    "from string import punctuation"
   ]
  },
  {
   "cell_type": "code",
   "execution_count": null,
   "metadata": {},
   "outputs": [],
   "source": [
    "stopwords = list(STOP_WORDS)\n",
    "punctuation += '\\n'"
   ]
  },
  {
   "cell_type": "code",
   "execution_count": null,
   "metadata": {},
   "outputs": [],
   "source": [
    "nlp = spacy.load(\"ru_core_news_sm\")\n",
    "nlp.add_pipe(\"textrank\", last=True)"
   ]
  },
  {
   "cell_type": "code",
   "execution_count": null,
   "metadata": {},
   "outputs": [],
   "source": [
    "text = '''Сколько статей было написано на хабре от обучающих курсов, как тот или иной человек вошел в ИТ, несмотря на то, что он сам юрист и ему уже за 40 лет. Такие статьи вселяют надежду, как передающиеся из уст в уста рассказы о чудотворцах, которые могли исцелять одним касанием.\n",
    "Не буду оспаривать реалистичность таких вхождений в ИТ... Но давайте зададимся одним вопросом, а какое соотношение таких \"чудо-людей\" к обычным смертным - тем, кто не прошел в ИТ? Для этого достаточно почитать про понятие \"систематическая ошибка выжившего\", но тому, кому этого не достаточно, давайте вместе разберемся в цифрах.\n",
    "Отовсюду мы слышим одно и тоже: нехватка ИТ специалистов, высокие зарплаты, удаленная работа, поддержка ИТ на уровне государства. Звучит шикарно. Возникает ощущение, что это бездонная сфера, которая будет востребована, ну хотя бы вечность, не меньше.\n",
    "Отступление: ничто не вечно... Инженеры, юристы, экономисты - всех их объединяет, то что они имели высокую популярность в свое время, но время это ушло...\n",
    "Давайте посмотрим немного повнимательнее на эту сферу ИТ, выбросим всю эту СМИ мишуру, снимем пару ведер лапши с ушей.\n",
    "У меня есть знакомые, которые хотели войти в ИТ, но так и не вошли. Мое личное соотношение примерно 1 вошедший на 7 не вошедших. Конкуренция очень жесткая.'''"
   ]
  },
  {
   "cell_type": "code",
   "execution_count": null,
   "metadata": {},
   "outputs": [],
   "source": [
    "doc = nlp(text)"
   ]
  },
  {
   "cell_type": "code",
   "execution_count": null,
   "metadata": {},
   "outputs": [],
   "source": [
    "# var 1\n",
    "word_frequencies = {}\n",
    "for word in doc:\n",
    "    if word.text.lower() not in stopwords:\n",
    "        if word.text.lower() not in punctuation:\n",
    "            if word.text not in word_frequencies:\n",
    "                word_frequencies[word.text] = 1\n",
    "            else:\n",
    "                word_frequencies[word.text] += 1"
   ]
  },
  {
   "cell_type": "code",
   "execution_count": null,
   "metadata": {},
   "outputs": [],
   "source": [
    "# var 2\n",
    "for sent in doc._.textrank.summary(limit_phrases=15, limit_sentences=2):\n",
    "    print(sent)"
   ]
  }
 ],
 "metadata": {
  "language_info": {
   "name": "python"
  },
  "orig_nbformat": 4
 },
 "nbformat": 4,
 "nbformat_minor": 2
}
