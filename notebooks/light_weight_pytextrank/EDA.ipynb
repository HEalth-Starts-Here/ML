{
 "cells": [
  {
   "cell_type": "code",
   "execution_count": 1,
   "metadata": {},
   "outputs": [
    {
     "name": "stdout",
     "output_type": "stream",
     "text": [
      "Collecting ru-core-news-sm==3.5.0\n",
      "  Downloading https://github.com/explosion/spacy-models/releases/download/ru_core_news_sm-3.5.0/ru_core_news_sm-3.5.0-py3-none-any.whl (15.3 MB)\n",
      "\u001b[2K     \u001b[90m━━━━━━━━━━━━━━━━━━━━━━━━━━━━━━━━━━━━━━━\u001b[0m \u001b[32m15.3/15.3 MB\u001b[0m \u001b[31m546.2 kB/s\u001b[0m eta \u001b[36m0:00:00\u001b[0m00:01\u001b[0m00:01\u001b[0m\n",
      "\u001b[?25hCollecting pymorphy3>=1.0.0\n",
      "  Using cached pymorphy3-1.2.0-py3-none-any.whl (55 kB)\n",
      "Requirement already satisfied: spacy<3.6.0,>=3.5.0 in /home/sibwa19/documents/vk_technopark/third/project/ML/.venv/lib/python3.10/site-packages (from ru-core-news-sm==3.5.0) (3.5.1)\n",
      "Collecting pymorphy3-dicts-ru\n",
      "  Using cached pymorphy3_dicts_ru-2.4.417150.4580142-py2.py3-none-any.whl (8.4 MB)\n",
      "Collecting dawg-python>=0.7.1\n",
      "  Using cached DAWG_Python-0.7.2-py2.py3-none-any.whl (11 kB)\n",
      "Collecting docopt>=0.6\n",
      "  Using cached docopt-0.6.2-py2.py3-none-any.whl\n",
      "Requirement already satisfied: packaging>=20.0 in /home/sibwa19/documents/vk_technopark/third/project/ML/.venv/lib/python3.10/site-packages (from spacy<3.6.0,>=3.5.0->ru-core-news-sm==3.5.0) (23.0)\n",
      "Requirement already satisfied: pydantic!=1.8,!=1.8.1,<1.11.0,>=1.7.4 in /home/sibwa19/documents/vk_technopark/third/project/ML/.venv/lib/python3.10/site-packages (from spacy<3.6.0,>=3.5.0->ru-core-news-sm==3.5.0) (1.10.7)\n",
      "Requirement already satisfied: numpy>=1.15.0 in /home/sibwa19/documents/vk_technopark/third/project/ML/.venv/lib/python3.10/site-packages (from spacy<3.6.0,>=3.5.0->ru-core-news-sm==3.5.0) (1.24.2)\n",
      "Requirement already satisfied: setuptools in /home/sibwa19/documents/vk_technopark/third/project/ML/.venv/lib/python3.10/site-packages (from spacy<3.6.0,>=3.5.0->ru-core-news-sm==3.5.0) (59.6.0)\n",
      "Requirement already satisfied: jinja2 in /home/sibwa19/documents/vk_technopark/third/project/ML/.venv/lib/python3.10/site-packages (from spacy<3.6.0,>=3.5.0->ru-core-news-sm==3.5.0) (3.1.2)\n",
      "Requirement already satisfied: tqdm<5.0.0,>=4.38.0 in /home/sibwa19/documents/vk_technopark/third/project/ML/.venv/lib/python3.10/site-packages (from spacy<3.6.0,>=3.5.0->ru-core-news-sm==3.5.0) (4.65.0)\n",
      "Requirement already satisfied: murmurhash<1.1.0,>=0.28.0 in /home/sibwa19/documents/vk_technopark/third/project/ML/.venv/lib/python3.10/site-packages (from spacy<3.6.0,>=3.5.0->ru-core-news-sm==3.5.0) (1.0.9)\n",
      "Requirement already satisfied: typer<0.8.0,>=0.3.0 in /home/sibwa19/documents/vk_technopark/third/project/ML/.venv/lib/python3.10/site-packages (from spacy<3.6.0,>=3.5.0->ru-core-news-sm==3.5.0) (0.7.0)\n",
      "Requirement already satisfied: requests<3.0.0,>=2.13.0 in /home/sibwa19/documents/vk_technopark/third/project/ML/.venv/lib/python3.10/site-packages (from spacy<3.6.0,>=3.5.0->ru-core-news-sm==3.5.0) (2.28.2)\n",
      "Requirement already satisfied: cymem<2.1.0,>=2.0.2 in /home/sibwa19/documents/vk_technopark/third/project/ML/.venv/lib/python3.10/site-packages (from spacy<3.6.0,>=3.5.0->ru-core-news-sm==3.5.0) (2.0.7)\n",
      "Requirement already satisfied: spacy-legacy<3.1.0,>=3.0.11 in /home/sibwa19/documents/vk_technopark/third/project/ML/.venv/lib/python3.10/site-packages (from spacy<3.6.0,>=3.5.0->ru-core-news-sm==3.5.0) (3.0.12)\n",
      "Requirement already satisfied: spacy-loggers<2.0.0,>=1.0.0 in /home/sibwa19/documents/vk_technopark/third/project/ML/.venv/lib/python3.10/site-packages (from spacy<3.6.0,>=3.5.0->ru-core-news-sm==3.5.0) (1.0.4)\n",
      "Requirement already satisfied: srsly<3.0.0,>=2.4.3 in /home/sibwa19/documents/vk_technopark/third/project/ML/.venv/lib/python3.10/site-packages (from spacy<3.6.0,>=3.5.0->ru-core-news-sm==3.5.0) (2.4.6)\n",
      "Requirement already satisfied: catalogue<2.1.0,>=2.0.6 in /home/sibwa19/documents/vk_technopark/third/project/ML/.venv/lib/python3.10/site-packages (from spacy<3.6.0,>=3.5.0->ru-core-news-sm==3.5.0) (2.0.8)\n",
      "Requirement already satisfied: thinc<8.2.0,>=8.1.8 in /home/sibwa19/documents/vk_technopark/third/project/ML/.venv/lib/python3.10/site-packages (from spacy<3.6.0,>=3.5.0->ru-core-news-sm==3.5.0) (8.1.9)\n",
      "Requirement already satisfied: smart-open<7.0.0,>=5.2.1 in /home/sibwa19/documents/vk_technopark/third/project/ML/.venv/lib/python3.10/site-packages (from spacy<3.6.0,>=3.5.0->ru-core-news-sm==3.5.0) (6.3.0)\n",
      "Requirement already satisfied: langcodes<4.0.0,>=3.2.0 in /home/sibwa19/documents/vk_technopark/third/project/ML/.venv/lib/python3.10/site-packages (from spacy<3.6.0,>=3.5.0->ru-core-news-sm==3.5.0) (3.3.0)\n",
      "Requirement already satisfied: pathy>=0.10.0 in /home/sibwa19/documents/vk_technopark/third/project/ML/.venv/lib/python3.10/site-packages (from spacy<3.6.0,>=3.5.0->ru-core-news-sm==3.5.0) (0.10.1)\n",
      "Requirement already satisfied: wasabi<1.2.0,>=0.9.1 in /home/sibwa19/documents/vk_technopark/third/project/ML/.venv/lib/python3.10/site-packages (from spacy<3.6.0,>=3.5.0->ru-core-news-sm==3.5.0) (1.1.1)\n",
      "Requirement already satisfied: preshed<3.1.0,>=3.0.2 in /home/sibwa19/documents/vk_technopark/third/project/ML/.venv/lib/python3.10/site-packages (from spacy<3.6.0,>=3.5.0->ru-core-news-sm==3.5.0) (3.0.8)\n",
      "Requirement already satisfied: typing-extensions>=4.2.0 in /home/sibwa19/documents/vk_technopark/third/project/ML/.venv/lib/python3.10/site-packages (from pydantic!=1.8,!=1.8.1,<1.11.0,>=1.7.4->spacy<3.6.0,>=3.5.0->ru-core-news-sm==3.5.0) (4.5.0)\n",
      "Requirement already satisfied: urllib3<1.27,>=1.21.1 in /home/sibwa19/documents/vk_technopark/third/project/ML/.venv/lib/python3.10/site-packages (from requests<3.0.0,>=2.13.0->spacy<3.6.0,>=3.5.0->ru-core-news-sm==3.5.0) (1.26.15)\n",
      "Requirement already satisfied: charset-normalizer<4,>=2 in /home/sibwa19/documents/vk_technopark/third/project/ML/.venv/lib/python3.10/site-packages (from requests<3.0.0,>=2.13.0->spacy<3.6.0,>=3.5.0->ru-core-news-sm==3.5.0) (3.1.0)\n",
      "Requirement already satisfied: certifi>=2017.4.17 in /home/sibwa19/documents/vk_technopark/third/project/ML/.venv/lib/python3.10/site-packages (from requests<3.0.0,>=2.13.0->spacy<3.6.0,>=3.5.0->ru-core-news-sm==3.5.0) (2022.12.7)\n",
      "Requirement already satisfied: idna<4,>=2.5 in /home/sibwa19/documents/vk_technopark/third/project/ML/.venv/lib/python3.10/site-packages (from requests<3.0.0,>=2.13.0->spacy<3.6.0,>=3.5.0->ru-core-news-sm==3.5.0) (3.4)\n",
      "Requirement already satisfied: confection<1.0.0,>=0.0.1 in /home/sibwa19/documents/vk_technopark/third/project/ML/.venv/lib/python3.10/site-packages (from thinc<8.2.0,>=8.1.8->spacy<3.6.0,>=3.5.0->ru-core-news-sm==3.5.0) (0.0.4)\n",
      "Requirement already satisfied: blis<0.8.0,>=0.7.8 in /home/sibwa19/documents/vk_technopark/third/project/ML/.venv/lib/python3.10/site-packages (from thinc<8.2.0,>=8.1.8->spacy<3.6.0,>=3.5.0->ru-core-news-sm==3.5.0) (0.7.9)\n",
      "Requirement already satisfied: click<9.0.0,>=7.1.1 in /home/sibwa19/documents/vk_technopark/third/project/ML/.venv/lib/python3.10/site-packages (from typer<0.8.0,>=0.3.0->spacy<3.6.0,>=3.5.0->ru-core-news-sm==3.5.0) (8.1.3)\n",
      "Requirement already satisfied: MarkupSafe>=2.0 in /home/sibwa19/documents/vk_technopark/third/project/ML/.venv/lib/python3.10/site-packages (from jinja2->spacy<3.6.0,>=3.5.0->ru-core-news-sm==3.5.0) (2.1.2)\n",
      "Installing collected packages: pymorphy3-dicts-ru, docopt, dawg-python, pymorphy3, ru-core-news-sm\n",
      "Successfully installed dawg-python-0.7.2 docopt-0.6.2 pymorphy3-1.2.0 pymorphy3-dicts-ru-2.4.417150.4580142 ru-core-news-sm-3.5.0\n",
      "\u001b[38;5;2m✔ Download and installation successful\u001b[0m\n",
      "You can now load the package via spacy.load('ru_core_news_sm')\n"
     ]
    }
   ],
   "source": [
    "!python -m spacy download ru_core_news_sm  # no option to install by pip"
   ]
  },
  {
   "cell_type": "code",
   "execution_count": 1,
   "metadata": {},
   "outputs": [],
   "source": [
    "import spacy\n",
    "import pytextrank\n",
    "from spacy.lang.ru.stop_words import STOP_WORDS\n",
    "from string import punctuation\n",
    "from heapq import nlargest"
   ]
  },
  {
   "cell_type": "code",
   "execution_count": 3,
   "metadata": {},
   "outputs": [],
   "source": [
    "stopwords = list(STOP_WORDS)\n",
    "punctuation += '\\n'"
   ]
  },
  {
   "cell_type": "code",
   "execution_count": 2,
   "metadata": {},
   "outputs": [
    {
     "data": {
      "text/plain": [
       "<pytextrank.base.BaseTextRankFactory at 0x7f0a24716590>"
      ]
     },
     "execution_count": 2,
     "metadata": {},
     "output_type": "execute_result"
    }
   ],
   "source": [
    "nlp = spacy.load(\"ru_core_news_sm\")\n",
    "nlp.add_pipe(\"textrank\", last=True)"
   ]
  },
  {
   "cell_type": "code",
   "execution_count": 4,
   "metadata": {},
   "outputs": [],
   "source": [
    "text = '''Сколько статей было написано на хабре от обучающих курсов, как тот или иной человек вошел в ИТ, несмотря на то, что он сам юрист и ему уже за 40 лет. Такие статьи вселяют надежду, как передающиеся из уст в уста рассказы о чудотворцах, которые могли исцелять одним касанием.\n",
    "Не буду оспаривать реалистичность таких вхождений в ИТ... Но давайте зададимся одним вопросом, а какое соотношение таких \"чудо-людей\" к обычным смертным - тем, кто не прошел в ИТ? Для этого достаточно почитать про понятие \"систематическая ошибка выжившего\", но тому, кому этого не достаточно, давайте вместе разберемся в цифрах.\n",
    "Отовсюду мы слышим одно и тоже: нехватка ИТ специалистов, высокие зарплаты, удаленная работа, поддержка ИТ на уровне государства. Звучит шикарно. Возникает ощущение, что это бездонная сфера, которая будет востребована, ну хотя бы вечность, не меньше.\n",
    "Отступление: ничто не вечно... Инженеры, юристы, экономисты - всех их объединяет, то что они имели высокую популярность в свое время, но время это ушло...\n",
    "Давайте посмотрим немного повнимательнее на эту сферу ИТ, выбросим всю эту СМИ мишуру, снимем пару ведер лапши с ушей.\n",
    "У меня есть знакомые, которые хотели войти в ИТ, но так и не вошли. Мое личное соотношение примерно 1 вошедший на 7 не вошедших. Конкуренция очень жесткая.'''"
   ]
  },
  {
   "cell_type": "code",
   "execution_count": 5,
   "metadata": {},
   "outputs": [],
   "source": [
    "doc = nlp(text)"
   ]
  },
  {
   "cell_type": "code",
   "execution_count": 10,
   "metadata": {},
   "outputs": [],
   "source": [
    "# var 1\n",
    "word_frequencies = {}\n",
    "for word in doc:\n",
    "    if word.text.lower() not in stopwords:\n",
    "        if word.text.lower() not in punctuation:\n",
    "            if word.text not in word_frequencies:\n",
    "                word_frequencies[word.text] = 1\n",
    "            else:\n",
    "                word_frequencies[word.text] += 1"
   ]
  },
  {
   "cell_type": "code",
   "execution_count": 11,
   "metadata": {},
   "outputs": [],
   "source": [
    "max_frequency = max(word_frequencies.values())\n",
    "for word in word_frequencies.keys():\n",
    "    word_frequencies[word] = word_frequencies[word] / max_frequency\n",
    "\n",
    "sentence_tokens = [sent for sent in doc.sents]\n",
    "\n",
    "sentence_scores = {}\n",
    "for sent in sentence_tokens:\n",
    "    for word in sent:\n",
    "        if word.text.lower() in word_frequencies.keys():\n",
    "            if sent not in sentence_scores.keys():\n",
    "                sentence_scores[sent] = word_frequencies[word.text.lower()]\n",
    "            else:\n",
    "                sentence_scores[sent] += word_frequencies[word.text.lower()]"
   ]
  },
  {
   "cell_type": "code",
   "execution_count": 20,
   "metadata": {},
   "outputs": [
    {
     "data": {
      "text/plain": [
       "{Сколько статей было написано на хабре от обучающих курсов, как тот или иной человек вошел в ИТ, несмотря на то, что он сам юрист и ему уже за 40 лет.: 1.7142857142857137,\n",
       " Такие статьи вселяют надежду, как передающиеся из уст в уста рассказы о чудотворцах, которые могли исцелять одним касанием.: 1.4285714285714282,\n",
       " Не буду оспаривать реалистичность таких вхождений в ИТ...: 0.8571428571428571,\n",
       " Но давайте зададимся одним вопросом, а какое соотношение таких \"чудо-людей\" к обычным смертным - тем, кто не прошел в ИТ?: 1.4285714285714282,\n",
       " Для этого достаточно почитать про понятие \"систематическая ошибка выжившего\", но тому, кому этого не достаточно, давайте вместе разберемся в цифрах.: 1.714285714285714,\n",
       " Отовсюду мы слышим одно и тоже: нехватка ИТ специалистов, высокие зарплаты, удаленная работа, поддержка ИТ на уровне государства.: 1.4285714285714282,\n",
       " Звучит шикарно.: 0.14285714285714285,\n",
       " Возникает ощущение, что это бездонная сфера, которая будет востребована, ну хотя бы вечность, не меньше.: 0.7142857142857142,\n",
       " Отступление: ничто не вечно...: 0.5714285714285714,\n",
       " Инженеры, юристы, экономисты - всех их объединяет, то что они имели высокую популярность в свое время, но время это ушло...: 1.9999999999999998,\n",
       " Давайте посмотрим немного повнимательнее на эту сферу ИТ, выбросим всю эту СМИ мишуру, снимем пару ведер лапши с ушей.: 1.4285714285714282,\n",
       " У меня есть знакомые, которые хотели войти в ИТ, но так и не вошли.: 0.5714285714285714,\n",
       " Мое личное соотношение примерно 1 вошедший на 7 не вошедших.: 1.1428571428571426,\n",
       " Конкуренция очень жесткая.: 0.14285714285714285}"
      ]
     },
     "execution_count": 20,
     "metadata": {},
     "output_type": "execute_result"
    }
   ],
   "source": [
    "sentence_scores"
   ]
  },
  {
   "cell_type": "code",
   "execution_count": 23,
   "metadata": {},
   "outputs": [
    {
     "data": {
      "text/plain": [
       "14"
      ]
     },
     "execution_count": 23,
     "metadata": {},
     "output_type": "execute_result"
    }
   ],
   "source": [
    "len(sentence_tokens)"
   ]
  },
  {
   "cell_type": "code",
   "execution_count": 15,
   "metadata": {},
   "outputs": [],
   "source": [
    "select_length = int(len(sentence_tokens) * 0.3)\n",
    "summary = nlargest(select_length, sentence_scores, key=sentence_scores.get)"
   ]
  },
  {
   "cell_type": "code",
   "execution_count": 16,
   "metadata": {},
   "outputs": [
    {
     "data": {
      "text/plain": [
       "[Инженеры, юристы, экономисты - всех их объединяет, то что они имели высокую популярность в свое время, но время это ушло...,\n",
       " Для этого достаточно почитать про понятие \"систематическая ошибка выжившего\", но тому, кому этого не достаточно, давайте вместе разберемся в цифрах.,\n",
       " Сколько статей было написано на хабре от обучающих курсов, как тот или иной человек вошел в ИТ, несмотря на то, что он сам юрист и ему уже за 40 лет.,\n",
       " Такие статьи вселяют надежду, как передающиеся из уст в уста рассказы о чудотворцах, которые могли исцелять одним касанием.]"
      ]
     },
     "execution_count": 16,
     "metadata": {},
     "output_type": "execute_result"
    }
   ],
   "source": [
    "summary"
   ]
  },
  {
   "cell_type": "code",
   "execution_count": 8,
   "metadata": {},
   "outputs": [
    {
     "name": "stdout",
     "output_type": "stream",
     "text": [
      "Давайте посмотрим немного повнимательнее на эту сферу ИТ, выбросим всю эту СМИ мишуру, снимем пару ведер лапши с ушей.\n",
      "\n",
      "Сколько статей было написано на хабре от обучающих курсов, как тот или иной человек вошел в ИТ, несмотря на то, что он сам юрист и ему уже за 40 лет.\n"
     ]
    }
   ],
   "source": [
    "# var 2\n",
    "for sent in doc._.textrank.summary(limit_phrases=15, limit_sentences=2):\n",
    "    print(str(sent))"
   ]
  }
 ],
 "metadata": {
  "kernelspec": {
   "display_name": ".venv",
   "language": "python",
   "name": "python3"
  },
  "language_info": {
   "codemirror_mode": {
    "name": "ipython",
    "version": 3
   },
   "file_extension": ".py",
   "mimetype": "text/x-python",
   "name": "python",
   "nbconvert_exporter": "python",
   "pygments_lexer": "ipython3",
   "version": "3.10.6"
  },
  "orig_nbformat": 4
 },
 "nbformat": 4,
 "nbformat_minor": 2
}
