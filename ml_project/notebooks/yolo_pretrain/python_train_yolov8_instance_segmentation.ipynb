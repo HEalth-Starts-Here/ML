{
 "cells": [
  {
   "cell_type": "code",
   "execution_count": 2,
   "metadata": {},
   "outputs": [
    {
     "name": "stderr",
     "output_type": "stream",
     "text": [
      "/home/sibwa19/documents/vk_technopark/third/skin_desease/ML/.venv/lib/python3.10/site-packages/tqdm/auto.py:21: TqdmWarning: IProgress not found. Please update jupyter and ipywidgets. See https://ipywidgets.readthedocs.io/en/stable/user_install.html\n",
      "  from .autonotebook import tqdm as notebook_tqdm\n"
     ]
    }
   ],
   "source": [
    "\n",
    "from PIL import Image\n",
    "# import cv2\n",
    "\n",
    "from ultralytics import YOLO"
   ]
  },
  {
   "cell_type": "code",
   "execution_count": null,
   "metadata": {},
   "outputs": [],
   "source": []
  },
  {
   "cell_type": "code",
   "execution_count": 3,
   "metadata": {},
   "outputs": [],
   "source": [
    "# train\n",
    "\n",
    "model = YOLO(\"best.pt\") # pass any model type\n",
    "# model.train(epochs=5)"
   ]
  },
  {
   "cell_type": "code",
   "execution_count": 10,
   "metadata": {},
   "outputs": [
    {
     "name": "stderr",
     "output_type": "stream",
     "text": [
      "\n",
      "image 1/1 /home/sibwa19/documents/vk_technopark/third/skin_desease/ML/ml_project/notebooks/yolo_pretrain/photo.jpeg: 512x512 1 dermatomikosis, 2300.3ms\n",
      "Speed: 0.8ms preprocess, 2300.3ms inference, 13.2ms postprocess per image at shape (1, 3, 512, 512)\n"
     ]
    },
    {
     "data": {
      "text/plain": [
       "{ '_keys': ['boxes', 'masks'],\n",
       "  'boxes': ultralytics.yolo.engine.results.Boxes\n",
       "type:  torch.Tensor\n",
       "shape: torch.Size([1, 6])\n",
       "dtype: torch.float32\n",
       "tensor([[352.00000, 363.00000, 486.00000, 510.00000,   0.66501,   0.00000]]),\n",
       "  'masks': ultralytics.yolo.engine.results.Masks\n",
       "type:  torch.Tensor\n",
       "shape: torch.Size([1, 512, 512])\n",
       "dtype: torch.float32\n",
       "tensor([[[0., 0., 0.,  ..., 0., 0., 0.],\n",
       "         [0., 0., 0.,  ..., 0., 0., 0.],\n",
       "         [0., 0., 0.,  ..., 0., 0., 0.],\n",
       "         ...,\n",
       "         [0., 0., 0.,  ..., 0., 0., 0.],\n",
       "         [0., 0., 0.,  ..., 0., 0., 0.],\n",
       "         [0., 0., 0.,  ..., 0., 0., 0.]]]),\n",
       "  'names': {0: 'dermatomikosis', 1: 'kandidiasis mukokutan', 2: 'pitiriasis versicolor'},\n",
       "  'orig_img': array([[[155, 202, 255],\n",
       "        [155, 202, 255],\n",
       "        [155, 202, 255],\n",
       "        ...,\n",
       "        [156, 200, 254],\n",
       "        [151, 194, 251],\n",
       "        [151, 194, 251]],\n",
       "\n",
       "       [[156, 203, 255],\n",
       "        [156, 203, 255],\n",
       "        [155, 202, 255],\n",
       "        ...,\n",
       "        [154, 197, 254],\n",
       "        [150, 193, 250],\n",
       "        [150, 193, 250]],\n",
       "\n",
       "       [[158, 206, 255],\n",
       "        [157, 205, 255],\n",
       "        [156, 204, 255],\n",
       "        ...,\n",
       "        [154, 196, 255],\n",
       "        [149, 191, 250],\n",
       "        [149, 191, 250]],\n",
       "\n",
       "       ...,\n",
       "\n",
       "       [[  0,   0,   0],\n",
       "        [  0,   0,   0],\n",
       "        [  0,   0,   0],\n",
       "        ...,\n",
       "        [ 49, 141, 242],\n",
       "        [ 55, 147, 250],\n",
       "        [ 55, 147, 250]],\n",
       "\n",
       "       [[  0,   0,   0],\n",
       "        [  0,   0,   0],\n",
       "        [  0,   0,   0],\n",
       "        ...,\n",
       "        [ 54, 146, 247],\n",
       "        [ 57, 149, 252],\n",
       "        [ 56, 149, 252]],\n",
       "\n",
       "       [[  0,   0,   0],\n",
       "        [  0,   0,   0],\n",
       "        [  0,   0,   0],\n",
       "        ...,\n",
       "        [ 54, 146, 247],\n",
       "        [ 57, 149, 252],\n",
       "        [ 56, 149, 252]]], dtype=uint8),\n",
       "  'orig_shape': (906, 906),\n",
       "  'path': '/home/sibwa19/documents/vk_technopark/third/skin_desease/ML/ml_project/notebooks/yolo_pretrain/photo.jpeg',\n",
       "  'probs': None,\n",
       "  'speed': {'inference': 2300.293445587158, 'postprocess': 13.199567794799805, 'preprocess': 0.7688999176025391}}"
      ]
     },
     "execution_count": 10,
     "metadata": {},
     "output_type": "execute_result"
    }
   ],
   "source": [
    "# predict\n",
    "\n",
    "model = YOLO(\"best.pt\")\n",
    "# accepts all formats - image/dir/Path/URL/video/PIL/ndarray. 0 for webcam\n",
    "results = model.predict(source=\"photo.jpeg\")\n",
    "# results[0].save(save_dir='tmp/')\n",
    "# results = model.predict(source=\"./\", show=True) # Display preds. Accepts all YOLO predict arguments\n",
    "\n",
    "# from PIL\n",
    "# im1 = Image.open(\"bus.jpg\")\n",
    "# results = model.predict(source=im1, save=True)  # save plotted images\n",
    "\n",
    "# # from ndarray\n",
    "# im2 = cv2.imread(\"bus.jpg\")\n",
    "# results = model.predict(source=im2, save=True, save_txt=True)  # save predictions as labels\n",
    "\n",
    "# from list of PIL/ndarray\n",
    "# results = model.predict(source=im1)"
   ]
  },
  {
   "cell_type": "code",
   "execution_count": null,
   "metadata": {},
   "outputs": [],
   "source": [
    "# val\n",
    "\n",
    "model = YOLO(\"model.pt\")\n",
    "  # It'll use the data yaml file in model.pt if you don't set data.\n",
    "model.val()\n",
    "# or you can set the data you want to val\n",
    "model.val(data=\"coco128.yaml\")"
   ]
  },
  {
   "cell_type": "code",
   "execution_count": null,
   "metadata": {},
   "outputs": [],
   "source": []
  },
  {
   "cell_type": "code",
   "execution_count": null,
   "metadata": {},
   "outputs": [],
   "source": []
  }
 ],
 "metadata": {
  "kernelspec": {
   "display_name": ".venv",
   "language": "python",
   "name": "python3"
  },
  "language_info": {
   "codemirror_mode": {
    "name": "ipython",
    "version": 3
   },
   "file_extension": ".py",
   "mimetype": "text/x-python",
   "name": "python",
   "nbconvert_exporter": "python",
   "pygments_lexer": "ipython3",
   "version": "3.10.6"
  },
  "orig_nbformat": 4
 },
 "nbformat": 4,
 "nbformat_minor": 2
}
